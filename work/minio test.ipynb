{
 "cells": [
  {
   "cell_type": "code",
   "execution_count": 1,
   "metadata": {},
   "outputs": [],
   "source": [
    "from pyspark.sql import SparkSession\n",
    "spark = SparkSession.builder.getOrCreate()"
   ]
  },
  {
   "cell_type": "markdown",
   "metadata": {},
   "source": [
    "# S3/MinIO config"
   ]
  },
  {
   "cell_type": "code",
   "execution_count": 10,
   "metadata": {},
   "outputs": [],
   "source": [
    "spark.sparkContext._jsc\\\n",
    "     .hadoopConfiguration().set(\"fs.s3a.access.key\", \"minio\")\n",
    "spark.sparkContext._jsc\\\n",
    "     .hadoopConfiguration().set(\"fs.s3a.secret.key\", \"minio123\")\n",
    "spark.sparkContext._jsc\\\n",
    "      .hadoopConfiguration().set(\"fs.s3a.endpoint\", \"http://minio1:9000\")\n",
    "spark.sparkContext._jsc\\\n",
    "      .hadoopConfiguration().set(\"spark.hadoop.fs.s3a.impl\", \"org.apache.hadoop.fs.s3a.S3AFileSystem\")\n",
    "spark.sparkContext._jsc\\\n",
    "      .hadoopConfiguration().set(\"spark.hadoop.fs.s3a.path.style.access\", \"true\")\n",
    "spark.sparkContext._jsc\\\n",
    "      .hadoopConfiguration().set(\"fs.s3a.multipart.size\", \"104857600\")"
   ]
  },
  {
   "cell_type": "markdown",
   "metadata": {},
   "source": [
    "# Read from MinIO"
   ]
  },
  {
   "cell_type": "code",
   "execution_count": 12,
   "metadata": {},
   "outputs": [],
   "source": [
    "ratings = spark.read\\\n",
    "            .option(\"header\", \"true\")\\\n",
    "            .option(\"inferSchema\", \"true\")\\\n",
    "            .csv(\"s3a://bucket1/movielens/ratings.csv\")"
   ]
  },
  {
   "cell_type": "code",
   "execution_count": 13,
   "metadata": {},
   "outputs": [
    {
     "name": "stdout",
     "output_type": "stream",
     "text": [
      "+------+-------+------+----------+\n",
      "|userId|movieId|rating| timestamp|\n",
      "+------+-------+------+----------+\n",
      "|     1|    307|   3.5|1256677221|\n",
      "|     1|    481|   3.5|1256677456|\n",
      "|     1|   1091|   1.5|1256677471|\n",
      "|     1|   1257|   4.5|1256677460|\n",
      "|     1|   1449|   4.5|1256677264|\n",
      "|     1|   1590|   2.5|1256677236|\n",
      "|     1|   1591|   1.5|1256677475|\n",
      "|     1|   2134|   4.5|1256677464|\n",
      "|     1|   2478|   4.0|1256677239|\n",
      "|     1|   2840|   3.0|1256677500|\n",
      "|     1|   2986|   2.5|1256677496|\n",
      "|     1|   3020|   4.0|1256677260|\n",
      "|     1|   3424|   4.5|1256677444|\n",
      "|     1|   3698|   3.5|1256677243|\n",
      "|     1|   3826|   2.0|1256677210|\n",
      "|     1|   3893|   3.5|1256677486|\n",
      "|     2|    170|   3.5|1192913581|\n",
      "|     2|    849|   3.5|1192913537|\n",
      "|     2|   1186|   3.5|1192913611|\n",
      "|     2|   1235|   3.0|1192913585|\n",
      "+------+-------+------+----------+\n",
      "only showing top 20 rows\n",
      "\n"
     ]
    }
   ],
   "source": [
    "ratings.show()"
   ]
  },
  {
   "cell_type": "code",
   "execution_count": 17,
   "metadata": {},
   "outputs": [],
   "source": [
    "ratings.registerTempTable(\"ratings\")"
   ]
  },
  {
   "cell_type": "code",
   "execution_count": 19,
   "metadata": {},
   "outputs": [],
   "source": [
    "movies = spark.read\\\n",
    "            .option(\"header\", \"true\")\\\n",
    "            .option(\"inferSchema\", \"true\")\\\n",
    "            .csv(\"s3a://bucket1/movielens/movies.csv\")"
   ]
  },
  {
   "cell_type": "code",
   "execution_count": 20,
   "metadata": {},
   "outputs": [
    {
     "name": "stdout",
     "output_type": "stream",
     "text": [
      "+-------+--------------------+--------------------+\n",
      "|movieId|               title|              genres|\n",
      "+-------+--------------------+--------------------+\n",
      "|      1|    Toy Story (1995)|Adventure|Animati...|\n",
      "|      2|      Jumanji (1995)|Adventure|Childre...|\n",
      "|      3|Grumpier Old Men ...|      Comedy|Romance|\n",
      "|      4|Waiting to Exhale...|Comedy|Drama|Romance|\n",
      "|      5|Father of the Bri...|              Comedy|\n",
      "|      6|         Heat (1995)|Action|Crime|Thri...|\n",
      "|      7|      Sabrina (1995)|      Comedy|Romance|\n",
      "|      8| Tom and Huck (1995)|  Adventure|Children|\n",
      "|      9| Sudden Death (1995)|              Action|\n",
      "|     10|    GoldenEye (1995)|Action|Adventure|...|\n",
      "|     11|American Presiden...|Comedy|Drama|Romance|\n",
      "|     12|Dracula: Dead and...|       Comedy|Horror|\n",
      "|     13|        Balto (1995)|Adventure|Animati...|\n",
      "|     14|        Nixon (1995)|               Drama|\n",
      "|     15|Cutthroat Island ...|Action|Adventure|...|\n",
      "|     16|       Casino (1995)|         Crime|Drama|\n",
      "|     17|Sense and Sensibi...|       Drama|Romance|\n",
      "|     18|   Four Rooms (1995)|              Comedy|\n",
      "|     19|Ace Ventura: When...|              Comedy|\n",
      "|     20|  Money Train (1995)|Action|Comedy|Cri...|\n",
      "+-------+--------------------+--------------------+\n",
      "only showing top 20 rows\n",
      "\n"
     ]
    }
   ],
   "source": [
    "movies.show()"
   ]
  },
  {
   "cell_type": "code",
   "execution_count": 21,
   "metadata": {},
   "outputs": [],
   "source": [
    "movies.registerTempTable(\"movies\")"
   ]
  },
  {
   "cell_type": "markdown",
   "metadata": {},
   "source": [
    "# Save to MinIO"
   ]
  },
  {
   "cell_type": "code",
   "execution_count": 29,
   "metadata": {},
   "outputs": [],
   "source": [
    "top_100_movies = spark.sql(\"\"\"\n",
    "    SELECT title, AVG(rating) as avg_rating\n",
    "    FROM movies m\n",
    "    LEFT JOIN ratings r ON m.movieId = r.movieID\n",
    "    GROUP BY title\n",
    "    HAVING COUNT(*) > 100\n",
    "    ORDER BY avg_rating DESC\n",
    "    LIMIT 100\n",
    "\"\"\")"
   ]
  },
  {
   "cell_type": "code",
   "execution_count": 30,
   "metadata": {
    "scrolled": false
   },
   "outputs": [
    {
     "name": "stdout",
     "output_type": "stream",
     "text": [
      "+--------------------+------------------+\n",
      "|               title|        avg_rating|\n",
      "+--------------------+------------------+\n",
      "|Planet Earth II (...|4.4865181711606095|\n",
      "| Planet Earth (2006)| 4.458092485549133|\n",
      "|Shawshank Redempt...| 4.424188001918387|\n",
      "|Band of Brothers ...| 4.399898373983739|\n",
      "|Black Mirror: Whi...| 4.350558659217877|\n",
      "|              Cosmos| 4.343949044585988|\n",
      "|The Godfather Tri...| 4.339667458432304|\n",
      "|Godfather, The (1...| 4.332892749244713|\n",
      "|Usual Suspects, T...| 4.291958829205532|\n",
      "|        Black Mirror| 4.263888888888889|\n",
      "|Godfather: Part I...|4.2630353697749195|\n",
      "|Last Year's Snow ...| 4.261904761904762|\n",
      "|Schindler's List ...| 4.257501817775044|\n",
      "|Seven Samurai (Sh...|4.2541157909178215|\n",
      "|Over the Garden W...| 4.244031830238727|\n",
      "|Sherlock - A Stud...|  4.23943661971831|\n",
      "| 12 Angry Men (1957)| 4.237075455914338|\n",
      "|Blue Planet II (2...| 4.236389684813753|\n",
      "|  Rear Window (1954)| 4.230798598634567|\n",
      "|   Fight Club (1999)| 4.230663235786717|\n",
      "+--------------------+------------------+\n",
      "only showing top 20 rows\n",
      "\n"
     ]
    }
   ],
   "source": [
    "top_100_movies.show()"
   ]
  },
  {
   "cell_type": "code",
   "execution_count": 36,
   "metadata": {},
   "outputs": [],
   "source": [
    "top_100_movies.write.parquet(\"s3a://bucket1/movielens/results/top_100_movies\")"
   ]
  },
  {
   "cell_type": "markdown",
   "metadata": {},
   "source": [
    "# Read Parquet"
   ]
  },
  {
   "cell_type": "code",
   "execution_count": 38,
   "metadata": {},
   "outputs": [
    {
     "name": "stdout",
     "output_type": "stream",
     "text": [
      "+--------------------+------------------+\n",
      "|               title|        avg_rating|\n",
      "+--------------------+------------------+\n",
      "|Planet Earth II (...|4.4865181711606095|\n",
      "| Planet Earth (2006)| 4.458092485549133|\n",
      "|Shawshank Redempt...| 4.424188001918387|\n",
      "|Band of Brothers ...| 4.399898373983739|\n",
      "|Black Mirror: Whi...| 4.350558659217877|\n",
      "|              Cosmos| 4.343949044585988|\n",
      "|The Godfather Tri...| 4.339667458432304|\n",
      "|Godfather, The (1...| 4.332892749244713|\n",
      "|Usual Suspects, T...| 4.291958829205532|\n",
      "|        Black Mirror| 4.263888888888889|\n",
      "|Godfather: Part I...|4.2630353697749195|\n",
      "|Last Year's Snow ...| 4.261904761904762|\n",
      "|Schindler's List ...| 4.257501817775044|\n",
      "|Seven Samurai (Sh...|4.2541157909178215|\n",
      "|Over the Garden W...| 4.244031830238727|\n",
      "|Sherlock - A Stud...|  4.23943661971831|\n",
      "| 12 Angry Men (1957)| 4.237075455914338|\n",
      "|Blue Planet II (2...| 4.236389684813753|\n",
      "|  Rear Window (1954)| 4.230798598634567|\n",
      "|   Fight Club (1999)| 4.230663235786717|\n",
      "+--------------------+------------------+\n",
      "only showing top 20 rows\n",
      "\n"
     ]
    }
   ],
   "source": [
    "spark.read.parquet(\"s3a://bucket1/movielens/results/top_100_movies\").show()"
   ]
  },
  {
   "cell_type": "markdown",
   "metadata": {},
   "source": [
    "# Kill test"
   ]
  },
  {
   "cell_type": "code",
   "execution_count": 42,
   "metadata": {},
   "outputs": [
    {
     "data": {
      "text/plain": [
       "27753444"
      ]
     },
     "execution_count": 42,
     "metadata": {},
     "output_type": "execute_result"
    }
   ],
   "source": [
    "ratings.count()"
   ]
  },
  {
   "cell_type": "markdown",
   "metadata": {},
   "source": [
    "## One killed"
   ]
  },
  {
   "cell_type": "code",
   "execution_count": 43,
   "metadata": {},
   "outputs": [
    {
     "data": {
      "text/plain": [
       "27753444"
      ]
     },
     "execution_count": 43,
     "metadata": {},
     "output_type": "execute_result"
    }
   ],
   "source": [
    "ratings.count()"
   ]
  },
  {
   "cell_type": "markdown",
   "metadata": {},
   "source": [
    "## Two killed"
   ]
  },
  {
   "cell_type": "code",
   "execution_count": 44,
   "metadata": {},
   "outputs": [
    {
     "data": {
      "text/plain": [
       "27753444"
      ]
     },
     "execution_count": 44,
     "metadata": {},
     "output_type": "execute_result"
    }
   ],
   "source": [
    "ratings.count()"
   ]
  },
  {
   "cell_type": "markdown",
   "metadata": {},
   "source": [
    "## Three killed"
   ]
  },
  {
   "cell_type": "code",
   "execution_count": null,
   "metadata": {},
   "outputs": [],
   "source": [
    "ratings.count()"
   ]
  }
 ],
 "metadata": {
  "kernelspec": {
   "display_name": "Python 3",
   "language": "python",
   "name": "python3"
  },
  "language_info": {
   "codemirror_mode": {
    "name": "ipython",
    "version": 3
   },
   "file_extension": ".py",
   "mimetype": "text/x-python",
   "name": "python",
   "nbconvert_exporter": "python",
   "pygments_lexer": "ipython3",
   "version": "3.8.3"
  }
 },
 "nbformat": 4,
 "nbformat_minor": 4
}
